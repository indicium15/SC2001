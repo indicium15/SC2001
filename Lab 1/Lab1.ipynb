{
 "cells": [
  {
   "cell_type": "markdown",
   "id": "992f4d73-0252-4cab-b128-a7402677ff92",
   "metadata": {},
   "source": [
    "# Project 1 - Integration of Mergesort and Insertion Sort"
   ]
  },
  {
   "cell_type": "markdown",
   "id": "0fdde8a5-8de6-49a4-b598-120aeed4da13",
   "metadata": {},
   "source": [
    "## Implementing the Hybrid Algorithm"
   ]
  },
  {
   "cell_type": "markdown",
   "id": "49ed5922-13d8-4436-8d99-059cdc28d73f",
   "metadata": {},
   "source": [
    "### Mergesort Algorithm"
   ]
  },
  {
   "cell_type": "code",
   "execution_count": 3,
   "id": "b4ae7139-37a4-4308-8677-73e3d6d98a5f",
   "metadata": {},
   "outputs": [],
   "source": [
    "def insertion_sort(array):\n",
    "    comparisions = 0\n",
    "    for i in range(0,len(array)):\n",
    "        for j in range(i,0,-1):\n",
    "            comparisions+=1\n",
    "            if(a[j] < a[j-1]):\n",
    "                temp = a[j]\n",
    "                a[j] = a[j-1]\n",
    "                a[j-1] = temp\n",
    "            else:\n",
    "                break\n",
    "    return comparisions"
   ]
  },
  {
   "cell_type": "code",
   "execution_count": 4,
   "id": "79b3e876-2b06-42d6-9bf2-10eb9a58d5dd",
   "metadata": {},
   "outputs": [],
   "source": [
    "def merge(array, low, middle, high):\n",
    "    comparisions = 0\n",
    "    pass"
   ]
  },
  {
   "cell_type": "code",
   "execution_count": null,
   "id": "e8855332-0d63-4573-95b9-66c9125fcc8d",
   "metadata": {},
   "outputs": [],
   "source": []
  }
 ],
 "metadata": {
  "kernelspec": {
   "display_name": "Python 3",
   "language": "python",
   "name": "python3"
  },
  "language_info": {
   "codemirror_mode": {
    "name": "ipython",
    "version": 3
   },
   "file_extension": ".py",
   "mimetype": "text/x-python",
   "name": "python",
   "nbconvert_exporter": "python",
   "pygments_lexer": "ipython3",
   "version": "3.8.8"
  }
 },
 "nbformat": 4,
 "nbformat_minor": 5
}
