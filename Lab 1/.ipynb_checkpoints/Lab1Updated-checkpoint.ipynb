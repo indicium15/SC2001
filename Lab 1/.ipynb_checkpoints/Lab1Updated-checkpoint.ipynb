{
 "cells": [
  {
   "cell_type": "markdown",
   "id": "6e2a745d",
   "metadata": {},
   "source": [
    "# Project 1 - Integration of Mergesort and Insertion Sort"
   ]
  },
  {
   "cell_type": "code",
   "execution_count": null,
   "id": "52791a12",
   "metadata": {},
   "outputs": [],
   "source": [
    "#Modules Required\n",
    "import random\n",
    "import time\n",
    "import numpy as np\n",
    "import pandas as pd\n",
    "import matplotlib.pyplot as plt\n",
    "import math\n",
    "comparisons = 0\n",
    "df1 = pd.DataFrame(columns=[\"InputSize\",\"KeyComparisons\"])\n",
    "df2 = pd.DataFrame(columns=[\"SSize\",\"KeyComparisons\"])"
   ]
  },
  {
   "cell_type": "markdown",
   "id": "bc64610a",
   "metadata": {},
   "source": [
    "## Implementing the Hybrid Algorithm\n",
    "GOAL: To modify the function calls that we have learnt in our lecture to also keep track of and return the number of key comparisions\n",
    "\n",
    "Subsequently, measuring the number of comparisions and time complexity, and comparing it with the generated inputs required for the project."
   ]
  },
  {
   "cell_type": "code",
   "execution_count": 2,
   "id": "98758959",
   "metadata": {},
   "outputs": [],
   "source": [
    "def generate_input_data():\n",
    "    max_integer = int(input(\"Enter the max integer 'x' for the array: \"))\n",
    "    number_arrays = int(input(\"Enter the number of arrays to generate: \"))\n",
    "    input_data = []\n",
    "    for i in range(0, number_arrays):\n",
    "        temp = []\n",
    "        #Generate a random array size based on the requirements\n",
    "        array_size = random.randint(1000,10000000)\n",
    "        for j in range(0, array_size):\n",
    "            #Generate a random integer to append to the array\n",
    "            temp.append(random.randint(1,max_integer))\n",
    "        #Append generated array to the main array\n",
    "        input_data.append(temp)  \n",
    "    #Sort input_data by the size of the subarrays\n",
    "    input_data.sort(key=len)\n",
    "    #Print information about arrays - sanity check\n",
    "    print(\"Number of Arrays Generated: \", len(input_data))\n",
    "    for k in range(0, len(input_data)):\n",
    "        print(f\"Array {i+1} : {len(input_data[k])}\")\n",
    "    return input_data"
   ]
  },
  {
   "cell_type": "code",
   "execution_count": 3,
   "id": "4debbf3d",
   "metadata": {},
   "outputs": [],
   "source": [
    "def insertion_sort(array):\n",
    "    global comparisons\n",
    "    for i in range(len(array)) :\n",
    "        key = i\n",
    "        for l in (range (i-1,-1,-1)) :\n",
    "            if (array[key] < array[l]) :\n",
    "                comparisons += 1\n",
    "                temp = array[key]\n",
    "                array[key] = array[l]\n",
    "                array[l] = temp\n",
    "                key = l"
   ]
  },
  {
   "cell_type": "code",
   "execution_count": 4,
   "id": "4e9bd40b",
   "metadata": {},
   "outputs": [],
   "source": [
    "def hybrid_sort(array,limiting_factor):\n",
    "    global comparisons\n",
    "    if (len(array) <= limiting_factor):\n",
    "        #Trigger Insertion Sort\n",
    "        insertion_sort(array)\n",
    "        return array\n",
    "    else:\n",
    "        #Use Merge Sort\n",
    "        x = len(array)\n",
    "        mid = math.ceil(x / 2)\n",
    "        array1 = array[:mid]\n",
    "        array2 = array[mid:]\n",
    "        array1 = hybrid_sort(array1, limiting_factor)\n",
    "        array2 = hybrid_sort(array2, limiting_factor)\n",
    "        temparray = []  \n",
    "        x = 0\n",
    "        y = 0\n",
    "        len1 = len(array1)\n",
    "        len2 = len(array2)\n",
    "        while (x < len1 and y < len2):\n",
    "            if (array1[x] <= array2[y]):\n",
    "                comparisons += 1\n",
    "                temparray.append(array1[x])\n",
    "                x += 1\n",
    "            else:\n",
    "                temparray.append(array2[y])\n",
    "                comparisons += 1\n",
    "                y += 1\n",
    "        while (x < len1):\n",
    "            temparray.append(array1[x])\n",
    "            x += 1\n",
    "        while (y < len2):\n",
    "            temparray.append(array2[y])\n",
    "            y += 1\n",
    "        return temparray"
   ]
  },
  {
   "cell_type": "code",
   "execution_count": 5,
   "id": "a79f2c5b",
   "metadata": {},
   "outputs": [
    {
     "name": "stdout",
     "output_type": "stream",
     "text": [
      "Enter the max integer 'x' for the array: 100\n",
      "Enter the number of arrays to generate: 1\n",
      "Number of Arrays Generated:  1\n",
      "Array 1 : 1786841\n",
      "Enter the size of the threshold: 1000\n",
      " Threshold Size 1000 | Comparisons: 405096272 | Time Taken: 154.281796417\n"
     ]
    }
   ],
   "source": [
    "def main():\n",
    "    global comparisons\n",
    "    array = []\n",
    "    array = generate_input_data()\n",
    "    threshold = int(input(\"Enter the size of the threshold: \"))\n",
    "    for i in array:\n",
    "        comparisons = 0\n",
    "        start = time.perf_counter()\n",
    "        i  = hybrid_sort(i, threshold)\n",
    "        end = time.perf_counter()\n",
    "        print(f\"Threshold Size {threshold} | Comparisons: {comparisons} | Time Taken: {end-start} seconds\")\n",
    "main()"
   ]
  },
  {
   "cell_type": "code",
   "execution_count": 8,
   "id": "124ee357",
   "metadata": {},
   "outputs": [],
   "source": [
    "def c1():\n",
    "    # Value of S - threshold limit is fixed\n",
    "    # Number of Key Comparisions over the Size of the Input List\n",
    "    # x-axis - size of input list\n",
    "    # y-axis - number of key comparisions\n",
    "    global comparisons\n",
    "    pass\n",
    "    "
   ]
  },
  {
   "cell_type": "code",
   "execution_count": 9,
   "id": "21f01641",
   "metadata": {},
   "outputs": [],
   "source": [
    "def c2():\n",
    "    # Input size n fixed\n",
    "    # Number of key comparisons over different sizes of S\n",
    "    # x-axis: sizes of S\n",
    "    # y-axis: number of key comparisons\n",
    "    global comparisons\n",
    "    pass"
   ]
  },
  {
   "cell_type": "code",
   "execution_count": null,
   "id": "1dacaaca",
   "metadata": {},
   "outputs": [],
   "source": []
  }
 ],
 "metadata": {
  "kernelspec": {
   "display_name": "Python 3",
   "language": "python",
   "name": "python3"
  },
  "language_info": {
   "codemirror_mode": {
    "name": "ipython",
    "version": 3
   },
   "file_extension": ".py",
   "mimetype": "text/x-python",
   "name": "python",
   "nbconvert_exporter": "python",
   "pygments_lexer": "ipython3",
   "version": "3.8.8"
  }
 },
 "nbformat": 4,
 "nbformat_minor": 5
}
